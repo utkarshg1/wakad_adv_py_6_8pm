{
 "cells": [
  {
   "cell_type": "markdown",
   "metadata": {},
   "source": [
    "# Multithreading\n",
    "\n",
    "Multiple threads can execute multiple functions simultaneously"
   ]
  },
  {
   "cell_type": "code",
   "execution_count": 1,
   "metadata": {},
   "outputs": [
    {
     "name": "stdout",
     "output_type": "stream",
     "text": [
      "Hello!\n"
     ]
    }
   ],
   "source": [
    "import time\n",
    "\n",
    "time.sleep(5)\n",
    "print(\"Hello!\")"
   ]
  },
  {
   "cell_type": "code",
   "execution_count": 2,
   "metadata": {},
   "outputs": [],
   "source": [
    "# Write a decorator to measuer time required by a function\n",
    "def time_dec(func):\n",
    "    def wrapper(*args, **kwargs):\n",
    "        start = time.perf_counter()\n",
    "        res = func(*args, **kwargs)\n",
    "        print(f\"Results : {res}\")\n",
    "        stop = time.perf_counter()\n",
    "        elapsed = stop - start\n",
    "        print(f\"Time Elapsed : {elapsed:.4f} sec\")\n",
    "        return res\n",
    "\n",
    "    return wrapper"
   ]
  },
  {
   "cell_type": "markdown",
   "metadata": {},
   "source": [
    "Create two functions\n",
    "\n",
    "1. simple interest\n",
    "\n",
    "2. hypotenuse"
   ]
  },
  {
   "cell_type": "code",
   "execution_count": 3,
   "metadata": {},
   "outputs": [],
   "source": [
    "@time_dec\n",
    "def simple_interest(p, n, r):\n",
    "    print(\"Simple Intrest function Started\")\n",
    "    time.sleep(2)\n",
    "    i = (p * n * r) / 100\n",
    "    a = p + i\n",
    "    return i, a"
   ]
  },
  {
   "cell_type": "code",
   "execution_count": 4,
   "metadata": {},
   "outputs": [],
   "source": [
    "import math\n",
    "\n",
    "\n",
    "@time_dec\n",
    "def hypotenuse(a, b):\n",
    "    print(\"Hypotenuse function started\")\n",
    "    time.sleep(3)\n",
    "    h = math.sqrt(a**2 + b**2)\n",
    "    return h"
   ]
  },
  {
   "cell_type": "code",
   "execution_count": 5,
   "metadata": {},
   "outputs": [
    {
     "name": "stdout",
     "output_type": "stream",
     "text": [
      "Simple Intrest function Started\n",
      "Results : (3250.0, 13250.0)\n",
      "Time Elapsed : 2.0038 sec\n"
     ]
    }
   ],
   "source": [
    "i1, a1 = simple_interest(p=10_000, n=5, r=6.5)"
   ]
  },
  {
   "cell_type": "code",
   "execution_count": 6,
   "metadata": {},
   "outputs": [
    {
     "name": "stdout",
     "output_type": "stream",
     "text": [
      "Hypotenuse function started\n",
      "Results : 6.4031242374328485\n",
      "Time Elapsed : 3.0033 sec\n"
     ]
    }
   ],
   "source": [
    "h1 = hypotenuse(4, 5)"
   ]
  },
  {
   "cell_type": "code",
   "execution_count": 7,
   "metadata": {},
   "outputs": [
    {
     "name": "stdout",
     "output_type": "stream",
     "text": [
      "Simple Intrest function Started\n",
      "Results : (10650.0, 60650.0)\n",
      "Time Elapsed : 2.0014 sec\n",
      "Hypotenuse function started\n",
      "Results : 5.0\n",
      "Time Elapsed : 3.0006 sec\n",
      "Total Time required : 5.0027 sec\n"
     ]
    }
   ],
   "source": [
    "# Single Thread execution\n",
    "start = time.perf_counter()\n",
    "i2, a2 = simple_interest(p=50_000, n=3, r=7.1)  # 2 sec\n",
    "h2 = hypotenuse(3, 4)  # 3 sec\n",
    "stop = time.perf_counter()\n",
    "elapsed = stop - start\n",
    "print(f\"Total Time required : {elapsed:.4f} sec\")"
   ]
  },
  {
   "cell_type": "code",
   "execution_count": 8,
   "metadata": {},
   "outputs": [
    {
     "name": "stdout",
     "output_type": "stream",
     "text": [
      "Hypotenuse function started\n",
      "Simple Intrest function Started\n",
      "Results : (3264.0, 15264.0)\n",
      "Time Elapsed : 2.0066 sec\n",
      "Results : 5.0\n",
      "Time Elapsed : 3.0152 sec\n",
      "Total Time Multithreading : 3.0405 sec\n"
     ]
    }
   ],
   "source": [
    "# Mutli-threading\n",
    "from threading import Thread\n",
    "\n",
    "start = time.perf_counter()\n",
    "# Create the threads\n",
    "th1 = Thread(target=hypotenuse, args=(3, 4))\n",
    "th2 = Thread(target=simple_interest, args=(12_000, 4, 6.8))\n",
    "# Start the threads\n",
    "th1.start()\n",
    "th2.start()\n",
    "# Wait for all threads to finish\n",
    "th1.join()\n",
    "th2.join()\n",
    "stop = time.perf_counter()\n",
    "elapsed = stop - start\n",
    "print(f\"Total Time Multithreading : {elapsed:.4f} sec\")"
   ]
  },
  {
   "cell_type": "markdown",
   "metadata": {},
   "source": [
    "Multithreading on multiple values"
   ]
  },
  {
   "cell_type": "code",
   "execution_count": 9,
   "metadata": {},
   "outputs": [],
   "source": [
    "@time_dec\n",
    "def square_list(nums: list[int]):\n",
    "    for i in nums:\n",
    "        time.sleep(1)\n",
    "        print(f\"Square of {i} is {i**2}\")"
   ]
  },
  {
   "cell_type": "code",
   "execution_count": 10,
   "metadata": {},
   "outputs": [
    {
     "name": "stdout",
     "output_type": "stream",
     "text": [
      "Square of 3 is 9\n",
      "Square of 4 is 16\n",
      "Square of 11 is 121\n",
      "Square of 12 is 144\n",
      "Square of 34 is 1156\n",
      "Square of 25 is 625\n",
      "Results : None\n",
      "Time Elapsed : 6.0303 sec\n"
     ]
    }
   ],
   "source": [
    "a = [3, 4, 11, 12, 34, 25]\n",
    "square_list(a)"
   ]
  },
  {
   "cell_type": "code",
   "execution_count": 11,
   "metadata": {},
   "outputs": [
    {
     "name": "stdout",
     "output_type": "stream",
     "text": [
      "Square of 23 is 529\n",
      "Square of 24 is 576\n",
      "Square of 101 is 10201\n",
      "Results : None\n",
      "Time Elapsed : 3.0318 sec\n"
     ]
    }
   ],
   "source": [
    "b = [23, 24, 101]\n",
    "square_list(b)"
   ]
  },
  {
   "cell_type": "code",
   "execution_count": 12,
   "metadata": {},
   "outputs": [],
   "source": [
    "def square(n: int):\n",
    "    time.sleep(1)\n",
    "    print(f\"Square of {n} is {n**2}\")"
   ]
  },
  {
   "cell_type": "code",
   "execution_count": 13,
   "metadata": {},
   "outputs": [
    {
     "name": "stdout",
     "output_type": "stream",
     "text": [
      "Square of 11 is 121\n"
     ]
    }
   ],
   "source": [
    "square(11)"
   ]
  },
  {
   "cell_type": "code",
   "execution_count": 14,
   "metadata": {},
   "outputs": [],
   "source": [
    "# Multithreading\n",
    "\n",
    "\n",
    "@time_dec\n",
    "def multithreading_squares(nums: list[int]):\n",
    "    # Create threads and start\n",
    "    threads = []\n",
    "    for i in nums:\n",
    "        th = Thread(target=square, args=(i,))\n",
    "        th.start()\n",
    "        threads.append(th)\n",
    "\n",
    "    # Wait for all threads to finish\n",
    "    for th in threads:\n",
    "        th.join()"
   ]
  },
  {
   "cell_type": "code",
   "execution_count": 15,
   "metadata": {},
   "outputs": [
    {
     "name": "stdout",
     "output_type": "stream",
     "text": [
      "Square of 3 is 9\n",
      "Square of 4 is 16\n",
      "Square of 11 is 121\n",
      "Square of 12 is 144\n",
      "Square of 25 is 625\n",
      "Square of 34 is 1156\n",
      "Results : None\n",
      "Time Elapsed : 1.0373 sec\n"
     ]
    }
   ],
   "source": [
    "multithreading_squares(a)"
   ]
  },
  {
   "cell_type": "code",
   "execution_count": 16,
   "metadata": {},
   "outputs": [
    {
     "name": "stdout",
     "output_type": "stream",
     "text": [
      "Square of 1 is 1\n",
      "Square of 2 is 4\n",
      "Square of 3 is 9\n",
      "Square of 4 is 16\n",
      "Square of 5 is 25\n",
      "Square of 6 is 36\n",
      "Square of 7 is 49\n",
      "Square of 8 is 64\n",
      "Square of 9 is 81\n",
      "Square of 10 is 100\n",
      "Square of 11 is 121\n",
      "Square of 12 is 144\n",
      "Results : None\n",
      "Time Elapsed : 12.0836 sec\n"
     ]
    }
   ],
   "source": [
    "c = [1, 2, 3, 4, 5, 6, 7, 8, 9, 10, 11, 12]\n",
    "square_list(c)"
   ]
  },
  {
   "cell_type": "code",
   "execution_count": 17,
   "metadata": {},
   "outputs": [
    {
     "name": "stdout",
     "output_type": "stream",
     "text": [
      "Square of 1 is 1\n",
      "Square of 2 is 4\n",
      "Square of 3 is 9\n",
      "Square of 6 is 36\n",
      "Square of 4 is 16\n",
      "Square of 5 is 25\n",
      "Square of 7 is 49\n",
      "Square of 8 is 64\n",
      "Square of 9 is 81\n",
      "Square of 10 is 100\n",
      "Square of 11 is 121\n",
      "Square of 12 is 144\n",
      "Results : None\n",
      "Time Elapsed : 1.0482 sec\n"
     ]
    }
   ],
   "source": [
    "multithreading_squares(c)"
   ]
  },
  {
   "cell_type": "markdown",
   "metadata": {},
   "source": [
    "# Downloading multiple files via single threading vs multithreading"
   ]
  },
  {
   "cell_type": "code",
   "execution_count": 18,
   "metadata": {},
   "outputs": [
    {
     "name": "stdout",
     "output_type": "stream",
     "text": [
      "https://raw.githubusercontent.com/utkarshg1/mlproject_regression/main/artifacts/data.csv\n"
     ]
    }
   ],
   "source": [
    "url1 = \"https://raw.githubusercontent.com/utkarshg1/mlproject_regression/main/artifacts/data.csv\"\n",
    "print(url1)"
   ]
  },
  {
   "cell_type": "code",
   "execution_count": 19,
   "metadata": {},
   "outputs": [
    {
     "data": {
      "text/plain": [
       "['https:',\n",
       " '',\n",
       " 'raw.githubusercontent.com',\n",
       " 'utkarshg1',\n",
       " 'mlproject_regression',\n",
       " 'main',\n",
       " 'artifacts',\n",
       " 'data.csv']"
      ]
     },
     "execution_count": 19,
     "metadata": {},
     "output_type": "execute_result"
    }
   ],
   "source": [
    "url1.split(\"/\")"
   ]
  },
  {
   "cell_type": "code",
   "execution_count": 20,
   "metadata": {},
   "outputs": [
    {
     "data": {
      "text/plain": [
       "'data.csv'"
      ]
     },
     "execution_count": 20,
     "metadata": {},
     "output_type": "execute_result"
    }
   ],
   "source": [
    "url1.split(\"/\")[-1]"
   ]
  },
  {
   "cell_type": "code",
   "execution_count": 21,
   "metadata": {},
   "outputs": [],
   "source": [
    "from urllib.request import urlretrieve\n",
    "\n",
    "\n",
    "def download_file(url: str):\n",
    "    filename = url.split(\"/\")[-1]\n",
    "    print(f\"Downloading {filename} ...\")\n",
    "    urlretrieve(url, filename)\n",
    "    print(f\"{filename} download complete!\")"
   ]
  },
  {
   "cell_type": "code",
   "execution_count": 22,
   "metadata": {},
   "outputs": [
    {
     "name": "stdout",
     "output_type": "stream",
     "text": [
      "Downloading data.csv ...\n",
      "data.csv download complete!\n"
     ]
    }
   ],
   "source": [
    "download_file(url1)"
   ]
  },
  {
   "cell_type": "code",
   "execution_count": 23,
   "metadata": {},
   "outputs": [],
   "source": [
    "# Single threaded download multiple files\n",
    "\n",
    "\n",
    "@time_dec\n",
    "def download_many_files(urls: list[str]):\n",
    "    for url in urls:\n",
    "        download_file(url)"
   ]
  },
  {
   "cell_type": "code",
   "execution_count": 24,
   "metadata": {},
   "outputs": [
    {
     "name": "stdout",
     "output_type": "stream",
     "text": [
      "['https://raw.githubusercontent.com/utkarshg1/mlproject_regression/main/artifacts/data.csv', 'https://raw.githubusercontent.com/utkarshg1/mlproject_regression/main/artifacts/test.csv', 'https://raw.githubusercontent.com/utkarshg1/mlproject_regression/main/artifacts/train.csv']\n"
     ]
    }
   ],
   "source": [
    "urls = [\n",
    "    \"https://raw.githubusercontent.com/utkarshg1/mlproject_regression/main/artifacts/data.csv\",\n",
    "    \"https://raw.githubusercontent.com/utkarshg1/mlproject_regression/main/artifacts/test.csv\",\n",
    "    \"https://raw.githubusercontent.com/utkarshg1/mlproject_regression/main/artifacts/train.csv\",\n",
    "]\n",
    "print(urls)"
   ]
  },
  {
   "cell_type": "code",
   "execution_count": 25,
   "metadata": {},
   "outputs": [
    {
     "name": "stdout",
     "output_type": "stream",
     "text": [
      "Downloading data.csv ...\n",
      "data.csv download complete!\n",
      "Downloading test.csv ...\n",
      "test.csv download complete!\n",
      "Downloading train.csv ...\n",
      "train.csv download complete!\n",
      "Results : None\n",
      "Time Elapsed : 0.8315 sec\n"
     ]
    }
   ],
   "source": [
    "download_many_files(urls)"
   ]
  },
  {
   "cell_type": "code",
   "execution_count": 26,
   "metadata": {},
   "outputs": [],
   "source": [
    "# Write function to download files simultaneously with multithreading\n",
    "@time_dec\n",
    "def multithreaded_download(urls: list[str]):\n",
    "    # Create and start threads\n",
    "    threads = []\n",
    "    for url in urls:\n",
    "        th = Thread(target=download_file, args=(url,))\n",
    "        th.start()\n",
    "        threads.append(th)\n",
    "    # Wait for all threads to finish\n",
    "    for th in threads:\n",
    "        th.join()"
   ]
  },
  {
   "cell_type": "code",
   "execution_count": 27,
   "metadata": {},
   "outputs": [
    {
     "name": "stdout",
     "output_type": "stream",
     "text": [
      "Downloading data.csv ...\n",
      "Downloading test.csv ...\n",
      "Downloading train.csv ...\n",
      "test.csv download complete!\n",
      "data.csv download complete!\n",
      "train.csv download complete!\n",
      "Results : None\n",
      "Time Elapsed : 1.0162 sec\n"
     ]
    }
   ],
   "source": [
    "multithreaded_download(urls)"
   ]
  },
  {
   "cell_type": "markdown",
   "metadata": {},
   "source": [
    "# Multithreading can be used to execute code parallely and takes less time"
   ]
  },
  {
   "cell_type": "code",
   "execution_count": null,
   "metadata": {},
   "outputs": [],
   "source": []
  }
 ],
 "metadata": {
  "kernelspec": {
   "display_name": "Wakad Adv Python 6-8 pm",
   "language": "python",
   "name": "python3"
  },
  "language_info": {
   "codemirror_mode": {
    "name": "ipython",
    "version": 3
   },
   "file_extension": ".py",
   "mimetype": "text/x-python",
   "name": "python",
   "nbconvert_exporter": "python",
   "pygments_lexer": "ipython3",
   "version": "3.13.5"
  }
 },
 "nbformat": 4,
 "nbformat_minor": 2
}
