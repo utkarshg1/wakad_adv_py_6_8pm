{
 "cells": [
  {
   "cell_type": "markdown",
   "id": "65b9cac1",
   "metadata": {},
   "source": [
    "# Part 1 - Class in Object Oriented programming (OOP)"
   ]
  },
  {
   "cell_type": "code",
   "execution_count": 1,
   "id": "352b520f",
   "metadata": {},
   "outputs": [
    {
     "name": "stdout",
     "output_type": "stream",
     "text": [
      "<class 'int'>\n"
     ]
    }
   ],
   "source": [
    "a = 23\n",
    "print(type(a))"
   ]
  },
  {
   "cell_type": "code",
   "execution_count": 2,
   "id": "29b33132",
   "metadata": {},
   "outputs": [
    {
     "name": "stdout",
     "output_type": "stream",
     "text": [
      "<class 'int'>\n"
     ]
    }
   ],
   "source": [
    "b = 104\n",
    "print(type(b))"
   ]
  },
  {
   "cell_type": "code",
   "execution_count": 3,
   "id": "a9cb84f0",
   "metadata": {},
   "outputs": [
    {
     "name": "stdout",
     "output_type": "stream",
     "text": [
      "<class 'float'>\n"
     ]
    }
   ],
   "source": [
    "c = 23.5\n",
    "print(type(c))"
   ]
  },
  {
   "cell_type": "code",
   "execution_count": 4,
   "id": "ff36113e",
   "metadata": {},
   "outputs": [
    {
     "name": "stdout",
     "output_type": "stream",
     "text": [
      "<class 'str'>\n"
     ]
    }
   ],
   "source": [
    "d = \"Example\"\n",
    "print(type(d))"
   ]
  },
  {
   "cell_type": "code",
   "execution_count": 5,
   "id": "c60ff299",
   "metadata": {},
   "outputs": [
    {
     "name": "stdout",
     "output_type": "stream",
     "text": [
      "<class 'bool'>\n"
     ]
    }
   ],
   "source": [
    "e = True\n",
    "print(type(e))"
   ]
  },
  {
   "cell_type": "code",
   "execution_count": 6,
   "id": "647d1ae9",
   "metadata": {},
   "outputs": [
    {
     "name": "stdout",
     "output_type": "stream",
     "text": [
      "<class 'bool'>\n"
     ]
    }
   ],
   "source": [
    "f = False\n",
    "print(type(f))"
   ]
  },
  {
   "cell_type": "code",
   "execution_count": 7,
   "id": "2a0c69a4",
   "metadata": {},
   "outputs": [
    {
     "name": "stdout",
     "output_type": "stream",
     "text": [
      "<class 'list'>\n"
     ]
    }
   ],
   "source": [
    "g = [1, 2, 3]\n",
    "print(type(g))"
   ]
  },
  {
   "cell_type": "code",
   "execution_count": 8,
   "id": "963c4863",
   "metadata": {},
   "outputs": [
    {
     "name": "stdout",
     "output_type": "stream",
     "text": [
      "<class 'tuple'>\n"
     ]
    }
   ],
   "source": [
    "h = (\"a\", 3, 4, 14.5)\n",
    "print(type(h))"
   ]
  },
  {
   "cell_type": "code",
   "execution_count": 9,
   "id": "df19a3d5",
   "metadata": {},
   "outputs": [
    {
     "name": "stdout",
     "output_type": "stream",
     "text": [
      "<class 'dict'>\n"
     ]
    }
   ],
   "source": [
    "j = {\"a\": 1, \"b\": 2, \"c\": 3, \"d\": 4}\n",
    "print(type(j))"
   ]
  },
  {
   "cell_type": "code",
   "execution_count": 10,
   "id": "56697a52",
   "metadata": {},
   "outputs": [
    {
     "name": "stdout",
     "output_type": "stream",
     "text": [
      "<class 'dict'>\n"
     ]
    }
   ],
   "source": [
    "s = {\n",
    "    \"roll_no\": [101, 102, 103],\n",
    "    \"name\": [\"John\", \"Rahul\", \"Priya\"],\n",
    "}\n",
    "print(type(s))"
   ]
  },
  {
   "cell_type": "code",
   "execution_count": 11,
   "id": "a5b5c099",
   "metadata": {},
   "outputs": [
    {
     "data": {
      "text/html": [
       "<div>\n",
       "<style scoped>\n",
       "    .dataframe tbody tr th:only-of-type {\n",
       "        vertical-align: middle;\n",
       "    }\n",
       "\n",
       "    .dataframe tbody tr th {\n",
       "        vertical-align: top;\n",
       "    }\n",
       "\n",
       "    .dataframe thead th {\n",
       "        text-align: right;\n",
       "    }\n",
       "</style>\n",
       "<table border=\"1\" class=\"dataframe\">\n",
       "  <thead>\n",
       "    <tr style=\"text-align: right;\">\n",
       "      <th></th>\n",
       "      <th>roll_no</th>\n",
       "      <th>name</th>\n",
       "    </tr>\n",
       "  </thead>\n",
       "  <tbody>\n",
       "    <tr>\n",
       "      <th>0</th>\n",
       "      <td>101</td>\n",
       "      <td>John</td>\n",
       "    </tr>\n",
       "    <tr>\n",
       "      <th>1</th>\n",
       "      <td>102</td>\n",
       "      <td>Rahul</td>\n",
       "    </tr>\n",
       "    <tr>\n",
       "      <th>2</th>\n",
       "      <td>103</td>\n",
       "      <td>Priya</td>\n",
       "    </tr>\n",
       "  </tbody>\n",
       "</table>\n",
       "</div>"
      ],
      "text/plain": [
       "   roll_no   name\n",
       "0      101   John\n",
       "1      102  Rahul\n",
       "2      103  Priya"
      ]
     },
     "execution_count": 11,
     "metadata": {},
     "output_type": "execute_result"
    }
   ],
   "source": [
    "import pandas as pd\n",
    "\n",
    "df = pd.DataFrame(s)\n",
    "df"
   ]
  },
  {
   "cell_type": "code",
   "execution_count": 12,
   "id": "35a085a9",
   "metadata": {},
   "outputs": [
    {
     "name": "stdout",
     "output_type": "stream",
     "text": [
      "<class 'pandas.core.frame.DataFrame'>\n"
     ]
    }
   ],
   "source": [
    "print(type(df))"
   ]
  },
  {
   "cell_type": "markdown",
   "id": "a660499c",
   "metadata": {},
   "source": [
    "# Dataframe attributes\n",
    "1. df.columns\n",
    "2. df.index\n",
    "3. df.shape\n",
    "4. df.values\n",
    "5. df.size"
   ]
  },
  {
   "cell_type": "code",
   "execution_count": 13,
   "id": "94dfaf49",
   "metadata": {},
   "outputs": [
    {
     "data": {
      "text/plain": [
       "Index(['roll_no', 'name'], dtype='object')"
      ]
     },
     "execution_count": 13,
     "metadata": {},
     "output_type": "execute_result"
    }
   ],
   "source": [
    "df.columns"
   ]
  },
  {
   "cell_type": "code",
   "execution_count": 14,
   "id": "07106cf2",
   "metadata": {},
   "outputs": [
    {
     "data": {
      "text/plain": [
       "RangeIndex(start=0, stop=3, step=1)"
      ]
     },
     "execution_count": 14,
     "metadata": {},
     "output_type": "execute_result"
    }
   ],
   "source": [
    "df.index"
   ]
  },
  {
   "cell_type": "code",
   "execution_count": 15,
   "id": "1635134c",
   "metadata": {},
   "outputs": [
    {
     "data": {
      "text/plain": [
       "(3, 2)"
      ]
     },
     "execution_count": 15,
     "metadata": {},
     "output_type": "execute_result"
    }
   ],
   "source": [
    "df.shape"
   ]
  },
  {
   "cell_type": "code",
   "execution_count": 16,
   "id": "8fba8ac3",
   "metadata": {},
   "outputs": [
    {
     "data": {
      "text/plain": [
       "6"
      ]
     },
     "execution_count": 16,
     "metadata": {},
     "output_type": "execute_result"
    }
   ],
   "source": [
    "df.size"
   ]
  },
  {
   "cell_type": "code",
   "execution_count": 17,
   "id": "b898cbca",
   "metadata": {},
   "outputs": [
    {
     "data": {
      "text/plain": [
       "array([[101, 'John'],\n",
       "       [102, 'Rahul'],\n",
       "       [103, 'Priya']], dtype=object)"
      ]
     },
     "execution_count": 17,
     "metadata": {},
     "output_type": "execute_result"
    }
   ],
   "source": [
    "df.values"
   ]
  },
  {
   "cell_type": "markdown",
   "id": "7e116fb7",
   "metadata": {},
   "source": [
    "# Dataframe functions\n",
    "1. df.info()\n",
    "2. df.sort_values()\n",
    "3. df.groupby()"
   ]
  },
  {
   "cell_type": "code",
   "execution_count": 18,
   "id": "01d48db1",
   "metadata": {},
   "outputs": [
    {
     "name": "stdout",
     "output_type": "stream",
     "text": [
      "<class 'pandas.core.frame.DataFrame'>\n",
      "RangeIndex: 3 entries, 0 to 2\n",
      "Data columns (total 2 columns):\n",
      " #   Column   Non-Null Count  Dtype \n",
      "---  ------   --------------  ----- \n",
      " 0   roll_no  3 non-null      int64 \n",
      " 1   name     3 non-null      object\n",
      "dtypes: int64(1), object(1)\n",
      "memory usage: 180.0+ bytes\n"
     ]
    }
   ],
   "source": [
    "df.info()"
   ]
  },
  {
   "cell_type": "code",
   "execution_count": 19,
   "id": "8d092b99",
   "metadata": {},
   "outputs": [
    {
     "data": {
      "text/plain": [
       "array(['John', 'Rahul', 'Priya'], dtype=object)"
      ]
     },
     "execution_count": 19,
     "metadata": {},
     "output_type": "execute_result"
    }
   ],
   "source": [
    "df[\"name\"].unique()"
   ]
  },
  {
   "cell_type": "code",
   "execution_count": 20,
   "id": "33adbed8",
   "metadata": {},
   "outputs": [
    {
     "data": {
      "text/html": [
       "<div>\n",
       "<style scoped>\n",
       "    .dataframe tbody tr th:only-of-type {\n",
       "        vertical-align: middle;\n",
       "    }\n",
       "\n",
       "    .dataframe tbody tr th {\n",
       "        vertical-align: top;\n",
       "    }\n",
       "\n",
       "    .dataframe thead th {\n",
       "        text-align: right;\n",
       "    }\n",
       "</style>\n",
       "<table border=\"1\" class=\"dataframe\">\n",
       "  <thead>\n",
       "    <tr style=\"text-align: right;\">\n",
       "      <th></th>\n",
       "      <th>roll_no</th>\n",
       "      <th>name</th>\n",
       "    </tr>\n",
       "  </thead>\n",
       "  <tbody>\n",
       "    <tr>\n",
       "      <th>0</th>\n",
       "      <td>101</td>\n",
       "      <td>John</td>\n",
       "    </tr>\n",
       "    <tr>\n",
       "      <th>2</th>\n",
       "      <td>103</td>\n",
       "      <td>Priya</td>\n",
       "    </tr>\n",
       "    <tr>\n",
       "      <th>1</th>\n",
       "      <td>102</td>\n",
       "      <td>Rahul</td>\n",
       "    </tr>\n",
       "  </tbody>\n",
       "</table>\n",
       "</div>"
      ],
      "text/plain": [
       "   roll_no   name\n",
       "0      101   John\n",
       "2      103  Priya\n",
       "1      102  Rahul"
      ]
     },
     "execution_count": 20,
     "metadata": {},
     "output_type": "execute_result"
    }
   ],
   "source": [
    "df.sort_values(by=\"name\")"
   ]
  },
  {
   "cell_type": "markdown",
   "id": "16fb3fd0",
   "metadata": {},
   "source": [
    "# User defined class in python"
   ]
  },
  {
   "cell_type": "code",
   "execution_count": 21,
   "id": "97fcf4be",
   "metadata": {},
   "outputs": [],
   "source": [
    "class Person:\n",
    "\n",
    "    def __init__(self, name, age, gender, occupation):\n",
    "        self.name = name\n",
    "        self.age = age\n",
    "        self.gender = gender\n",
    "        self.occupation = occupation\n",
    "\n",
    "    def introduce(self):\n",
    "        print(f\"My name is {self.name}\")\n",
    "        print(f\"My age is {self.age} years old\")\n",
    "        print(f\"I am {self.gender}\")\n",
    "        print(f\"I work as a {self.occupation}\")"
   ]
  },
  {
   "cell_type": "code",
   "execution_count": 22,
   "id": "88aece09",
   "metadata": {},
   "outputs": [],
   "source": [
    "p1 = Person(name=\"Rahul\", age=23, gender=\"Male\", occupation=\"HR\")"
   ]
  },
  {
   "cell_type": "code",
   "execution_count": 23,
   "id": "3c6e17f7",
   "metadata": {},
   "outputs": [
    {
     "data": {
      "text/plain": [
       "<__main__.Person at 0x1dae8727380>"
      ]
     },
     "execution_count": 23,
     "metadata": {},
     "output_type": "execute_result"
    }
   ],
   "source": [
    "p1"
   ]
  },
  {
   "cell_type": "code",
   "execution_count": 24,
   "id": "dd725686",
   "metadata": {},
   "outputs": [
    {
     "name": "stdout",
     "output_type": "stream",
     "text": [
      "<class '__main__.Person'>\n"
     ]
    }
   ],
   "source": [
    "print(type(p1))"
   ]
  },
  {
   "cell_type": "code",
   "execution_count": 25,
   "id": "1441a693",
   "metadata": {},
   "outputs": [
    {
     "data": {
      "text/plain": [
       "'Rahul'"
      ]
     },
     "execution_count": 25,
     "metadata": {},
     "output_type": "execute_result"
    }
   ],
   "source": [
    "p1.name"
   ]
  },
  {
   "cell_type": "code",
   "execution_count": 26,
   "id": "089c5fb3",
   "metadata": {},
   "outputs": [
    {
     "data": {
      "text/plain": [
       "23"
      ]
     },
     "execution_count": 26,
     "metadata": {},
     "output_type": "execute_result"
    }
   ],
   "source": [
    "p1.age"
   ]
  },
  {
   "cell_type": "code",
   "execution_count": 27,
   "id": "74e198d8",
   "metadata": {},
   "outputs": [
    {
     "data": {
      "text/plain": [
       "'Male'"
      ]
     },
     "execution_count": 27,
     "metadata": {},
     "output_type": "execute_result"
    }
   ],
   "source": [
    "p1.gender"
   ]
  },
  {
   "cell_type": "code",
   "execution_count": 28,
   "id": "d5c871a0",
   "metadata": {},
   "outputs": [
    {
     "data": {
      "text/plain": [
       "'HR'"
      ]
     },
     "execution_count": 28,
     "metadata": {},
     "output_type": "execute_result"
    }
   ],
   "source": [
    "p1.occupation"
   ]
  },
  {
   "cell_type": "code",
   "execution_count": 29,
   "id": "61270e64",
   "metadata": {},
   "outputs": [
    {
     "name": "stdout",
     "output_type": "stream",
     "text": [
      "My name is Rahul\n",
      "My age is 23 years old\n",
      "I am Male\n",
      "I work as a HR\n"
     ]
    }
   ],
   "source": [
    "p1.introduce()"
   ]
  },
  {
   "cell_type": "code",
   "execution_count": 30,
   "id": "a10bab6b",
   "metadata": {},
   "outputs": [],
   "source": [
    "p2 = Person(name=\"Aditi\", age=32, gender=\"Female\", occupation=\"Engineer\")"
   ]
  },
  {
   "cell_type": "code",
   "execution_count": 31,
   "id": "7dfd6041",
   "metadata": {},
   "outputs": [
    {
     "data": {
      "text/plain": [
       "<__main__.Person at 0x1dae8a307d0>"
      ]
     },
     "execution_count": 31,
     "metadata": {},
     "output_type": "execute_result"
    }
   ],
   "source": [
    "p2"
   ]
  },
  {
   "cell_type": "code",
   "execution_count": 32,
   "id": "73ebe30a",
   "metadata": {},
   "outputs": [
    {
     "name": "stdout",
     "output_type": "stream",
     "text": [
      "<class '__main__.Person'>\n"
     ]
    }
   ],
   "source": [
    "print(type(p2))"
   ]
  },
  {
   "cell_type": "code",
   "execution_count": 33,
   "id": "13fe899f",
   "metadata": {},
   "outputs": [
    {
     "data": {
      "text/plain": [
       "'Aditi'"
      ]
     },
     "execution_count": 33,
     "metadata": {},
     "output_type": "execute_result"
    }
   ],
   "source": [
    "p2.name"
   ]
  },
  {
   "cell_type": "code",
   "execution_count": 34,
   "id": "67d8bc09",
   "metadata": {},
   "outputs": [
    {
     "data": {
      "text/plain": [
       "'Female'"
      ]
     },
     "execution_count": 34,
     "metadata": {},
     "output_type": "execute_result"
    }
   ],
   "source": [
    "p2.gender"
   ]
  },
  {
   "cell_type": "code",
   "execution_count": 35,
   "id": "2b8810f2",
   "metadata": {},
   "outputs": [
    {
     "data": {
      "text/plain": [
       "'Engineer'"
      ]
     },
     "execution_count": 35,
     "metadata": {},
     "output_type": "execute_result"
    }
   ],
   "source": [
    "p2.occupation"
   ]
  },
  {
   "cell_type": "code",
   "execution_count": 36,
   "id": "c7a515bd",
   "metadata": {},
   "outputs": [
    {
     "data": {
      "text/plain": [
       "32"
      ]
     },
     "execution_count": 36,
     "metadata": {},
     "output_type": "execute_result"
    }
   ],
   "source": [
    "p2.age"
   ]
  },
  {
   "cell_type": "code",
   "execution_count": 37,
   "id": "c99d1214",
   "metadata": {},
   "outputs": [
    {
     "name": "stdout",
     "output_type": "stream",
     "text": [
      "My name is Aditi\n",
      "My age is 32 years old\n",
      "I am Female\n",
      "I work as a Engineer\n"
     ]
    }
   ],
   "source": [
    "p2.introduce()"
   ]
  },
  {
   "cell_type": "code",
   "execution_count": 38,
   "id": "f27c32b7",
   "metadata": {},
   "outputs": [
    {
     "data": {
      "text/plain": [
       "<__main__.Person at 0x1dae8727380>"
      ]
     },
     "execution_count": 38,
     "metadata": {},
     "output_type": "execute_result"
    }
   ],
   "source": [
    "p1"
   ]
  },
  {
   "cell_type": "code",
   "execution_count": 39,
   "id": "11c0de74",
   "metadata": {},
   "outputs": [
    {
     "data": {
      "text/plain": [
       "<__main__.Person at 0x1dae8a307d0>"
      ]
     },
     "execution_count": 39,
     "metadata": {},
     "output_type": "execute_result"
    }
   ],
   "source": [
    "p2"
   ]
  },
  {
   "cell_type": "markdown",
   "id": "2f9ef480",
   "metadata": {},
   "source": [
    "# Create a class using python dataclasses"
   ]
  },
  {
   "cell_type": "code",
   "execution_count": 40,
   "id": "898b67cd",
   "metadata": {},
   "outputs": [],
   "source": [
    "from dataclasses import dataclass\n",
    "from typing import Literal"
   ]
  },
  {
   "cell_type": "code",
   "execution_count": 41,
   "id": "83e4f315",
   "metadata": {},
   "outputs": [],
   "source": [
    "@dataclass\n",
    "class Person2:\n",
    "    name: str\n",
    "    age: int\n",
    "    gender: Literal[\"male\", \"female\"]\n",
    "    occupation: str\n",
    "\n",
    "    def intro(self):\n",
    "        print(f\"My name is {self.name}\")\n",
    "        print(f\"My age is {self.age} years\")\n",
    "        print(f\"I am {self.gender}\")\n",
    "        print(f\"I work as a {self.occupation}\")"
   ]
  },
  {
   "cell_type": "code",
   "execution_count": 42,
   "id": "e4d5514c",
   "metadata": {},
   "outputs": [],
   "source": [
    "p3 = Person2(name=\"Raman\", age=28, gender=\"male\", occupation=\"Data Analyst\")"
   ]
  },
  {
   "cell_type": "code",
   "execution_count": 43,
   "id": "1b48abd6",
   "metadata": {},
   "outputs": [
    {
     "data": {
      "text/plain": [
       "Person2(name='Raman', age=28, gender='male', occupation='Data Analyst')"
      ]
     },
     "execution_count": 43,
     "metadata": {},
     "output_type": "execute_result"
    }
   ],
   "source": [
    "p3"
   ]
  },
  {
   "cell_type": "code",
   "execution_count": 44,
   "id": "fc57b50d",
   "metadata": {},
   "outputs": [
    {
     "data": {
      "text/plain": [
       "__main__.Person2"
      ]
     },
     "execution_count": 44,
     "metadata": {},
     "output_type": "execute_result"
    }
   ],
   "source": [
    "type(p3)"
   ]
  },
  {
   "cell_type": "code",
   "execution_count": 45,
   "id": "df8f7aab",
   "metadata": {},
   "outputs": [
    {
     "data": {
      "text/plain": [
       "'Raman'"
      ]
     },
     "execution_count": 45,
     "metadata": {},
     "output_type": "execute_result"
    }
   ],
   "source": [
    "p3.name"
   ]
  },
  {
   "cell_type": "code",
   "execution_count": 46,
   "id": "1c29798b",
   "metadata": {},
   "outputs": [
    {
     "data": {
      "text/plain": [
       "28"
      ]
     },
     "execution_count": 46,
     "metadata": {},
     "output_type": "execute_result"
    }
   ],
   "source": [
    "p3.age"
   ]
  },
  {
   "cell_type": "code",
   "execution_count": 47,
   "id": "146619d2",
   "metadata": {},
   "outputs": [
    {
     "data": {
      "text/plain": [
       "'male'"
      ]
     },
     "execution_count": 47,
     "metadata": {},
     "output_type": "execute_result"
    }
   ],
   "source": [
    "p3.gender"
   ]
  },
  {
   "cell_type": "code",
   "execution_count": 48,
   "id": "3e965ae3",
   "metadata": {},
   "outputs": [
    {
     "data": {
      "text/plain": [
       "'Data Analyst'"
      ]
     },
     "execution_count": 48,
     "metadata": {},
     "output_type": "execute_result"
    }
   ],
   "source": [
    "p3.occupation"
   ]
  },
  {
   "cell_type": "code",
   "execution_count": 49,
   "id": "5838b389",
   "metadata": {},
   "outputs": [
    {
     "name": "stdout",
     "output_type": "stream",
     "text": [
      "My name is Raman\n",
      "My age is 28 years\n",
      "I am male\n",
      "I work as a Data Analyst\n"
     ]
    }
   ],
   "source": [
    "p3.intro()"
   ]
  },
  {
   "cell_type": "code",
   "execution_count": 50,
   "id": "86b5d231",
   "metadata": {},
   "outputs": [
    {
     "data": {
      "text/plain": [
       "__main__.Person2"
      ]
     },
     "execution_count": 50,
     "metadata": {},
     "output_type": "execute_result"
    }
   ],
   "source": [
    "p4 = Person2(name=\"Kia\", age=28, gender=\"female\", occupation=\"HR\")\n",
    "type(p4)"
   ]
  },
  {
   "cell_type": "code",
   "execution_count": 51,
   "id": "0332aabf",
   "metadata": {},
   "outputs": [
    {
     "data": {
      "text/plain": [
       "'Kia'"
      ]
     },
     "execution_count": 51,
     "metadata": {},
     "output_type": "execute_result"
    }
   ],
   "source": [
    "p4.name"
   ]
  },
  {
   "cell_type": "code",
   "execution_count": 52,
   "id": "d0cd0cec",
   "metadata": {},
   "outputs": [
    {
     "data": {
      "text/plain": [
       "28"
      ]
     },
     "execution_count": 52,
     "metadata": {},
     "output_type": "execute_result"
    }
   ],
   "source": [
    "p4.age"
   ]
  },
  {
   "cell_type": "code",
   "execution_count": 53,
   "id": "0c3d0d18",
   "metadata": {},
   "outputs": [
    {
     "data": {
      "text/plain": [
       "'female'"
      ]
     },
     "execution_count": 53,
     "metadata": {},
     "output_type": "execute_result"
    }
   ],
   "source": [
    "p4.gender"
   ]
  },
  {
   "cell_type": "code",
   "execution_count": 54,
   "id": "100678c4",
   "metadata": {},
   "outputs": [
    {
     "data": {
      "text/plain": [
       "'HR'"
      ]
     },
     "execution_count": 54,
     "metadata": {},
     "output_type": "execute_result"
    }
   ],
   "source": [
    "p4.occupation"
   ]
  },
  {
   "cell_type": "code",
   "execution_count": 55,
   "id": "a05baeee",
   "metadata": {},
   "outputs": [
    {
     "data": {
      "text/plain": [
       "Person2(name='Kia', age=28, gender='female', occupation='HR')"
      ]
     },
     "execution_count": 55,
     "metadata": {},
     "output_type": "execute_result"
    }
   ],
   "source": [
    "p4"
   ]
  },
  {
   "cell_type": "markdown",
   "id": "38743a66",
   "metadata": {},
   "source": [
    "# Practical example bank account class"
   ]
  },
  {
   "attachments": {
    "image.png": {
     "image/png": "[encoded data removed]"
    }
   },
   "cell_type": "markdown",
   "id": "744bf508",
   "metadata": {},
   "source": [
    "![image.png](attachment:image.png)"
   ]
  },
  {
   "cell_type": "code",
   "execution_count": 58,
   "id": "f59099c8",
   "metadata": {},
   "outputs": [],
   "source": [
    "@dataclass\n",
    "class Account:\n",
    "    ac_no: int\n",
    "    name: str\n",
    "    bal: float\n",
    "\n",
    "    def __post_init__(self):\n",
    "        if self.bal < 0:\n",
    "            raise ValueError(\"Balance of account cannot be negative\")\n",
    "\n",
    "    def check_balance(self):\n",
    "        print(\n",
    "            f\"Account number : {self.ac_no}, Name : {self.name}, Current Balance : {self.bal:.2f} INR\"\n",
    "        )\n",
    "\n",
    "    def deposit(self, amt: float):\n",
    "        if amt <= 0:\n",
    "            raise ValueError(\"Negative amount cannot be deposited\")\n",
    "\n",
    "        self.bal = self.bal + amt\n",
    "\n",
    "    def withdraw(self, amt: float):\n",
    "        if amt <= 0:\n",
    "            raise ValueError(\"Negative amount cannot be withdrawn\")\n",
    "\n",
    "        if self.bal < amt:\n",
    "            raise ValueError(\"Insufficient Balance\")\n",
    "\n",
    "        self.bal = self.bal - amt\n",
    "\n",
    "    def transfer(self, amt: float, ac2: \"Account\"):\n",
    "        self.withdraw(amt)\n",
    "        ac2.deposit(amt)"
   ]
  },
  {
   "cell_type": "code",
   "execution_count": 61,
   "id": "2f7d4dac",
   "metadata": {},
   "outputs": [
    {
     "data": {
      "text/plain": [
       "Account(ac_no=1234, name='Naman', bal=1000)"
      ]
     },
     "execution_count": 61,
     "metadata": {},
     "output_type": "execute_result"
    }
   ],
   "source": [
    "ac1 = Account(ac_no=1234, name=\"Naman\", bal=1000)\n",
    "ac1"
   ]
  },
  {
   "cell_type": "code",
   "execution_count": 62,
   "id": "5f4a7a91",
   "metadata": {},
   "outputs": [
    {
     "data": {
      "text/plain": [
       "__main__.Account"
      ]
     },
     "execution_count": 62,
     "metadata": {},
     "output_type": "execute_result"
    }
   ],
   "source": [
    "type(ac1)"
   ]
  },
  {
   "cell_type": "code",
   "execution_count": 63,
   "id": "ab778ab4",
   "metadata": {},
   "outputs": [
    {
     "data": {
      "text/plain": [
       "1234"
      ]
     },
     "execution_count": 63,
     "metadata": {},
     "output_type": "execute_result"
    }
   ],
   "source": [
    "ac1.ac_no"
   ]
  },
  {
   "cell_type": "code",
   "execution_count": 64,
   "id": "90e9e4a2",
   "metadata": {},
   "outputs": [
    {
     "data": {
      "text/plain": [
       "'Naman'"
      ]
     },
     "execution_count": 64,
     "metadata": {},
     "output_type": "execute_result"
    }
   ],
   "source": [
    "ac1.name"
   ]
  },
  {
   "cell_type": "code",
   "execution_count": 65,
   "id": "0c01d1a9",
   "metadata": {},
   "outputs": [
    {
     "data": {
      "text/plain": [
       "1000"
      ]
     },
     "execution_count": 65,
     "metadata": {},
     "output_type": "execute_result"
    }
   ],
   "source": [
    "ac1.bal"
   ]
  },
  {
   "cell_type": "code",
   "execution_count": 66,
   "id": "46a78cab",
   "metadata": {},
   "outputs": [
    {
     "name": "stdout",
     "output_type": "stream",
     "text": [
      "Account number : 1234, Name : Naman, Current Balance : 1000.00 INR\n"
     ]
    }
   ],
   "source": [
    "ac1.check_balance()"
   ]
  },
  {
   "cell_type": "code",
   "execution_count": 67,
   "id": "9095158e",
   "metadata": {},
   "outputs": [],
   "source": [
    "ac1.deposit(500)"
   ]
  },
  {
   "cell_type": "code",
   "execution_count": 68,
   "id": "8e177bd4",
   "metadata": {},
   "outputs": [
    {
     "name": "stdout",
     "output_type": "stream",
     "text": [
      "Account number : 1234, Name : Naman, Current Balance : 1500.00 INR\n"
     ]
    }
   ],
   "source": [
    "ac1.check_balance()"
   ]
  },
  {
   "cell_type": "code",
   "execution_count": 69,
   "id": "1c787e51",
   "metadata": {},
   "outputs": [
    {
     "ename": "ValueError",
     "evalue": "Negative amount cannot be deposited",
     "output_type": "error",
     "traceback": [
      "\u001b[31m---------------------------------------------------------------------------\u001b[39m",
      "\u001b[31mValueError\u001b[39m                                Traceback (most recent call last)",
      "\u001b[36mCell\u001b[39m\u001b[36m \u001b[39m\u001b[32mIn[69]\u001b[39m\u001b[32m, line 1\u001b[39m\n\u001b[32m----> \u001b[39m\u001b[32m1\u001b[39m \u001b[43mac1\u001b[49m\u001b[43m.\u001b[49m\u001b[43mdeposit\u001b[49m\u001b[43m(\u001b[49m\u001b[43m-\u001b[49m\u001b[32;43m300\u001b[39;49m\u001b[43m)\u001b[49m\n",
      "\u001b[36mCell\u001b[39m\u001b[36m \u001b[39m\u001b[32mIn[58]\u001b[39m\u001b[32m, line 18\u001b[39m, in \u001b[36mAccount.deposit\u001b[39m\u001b[34m(self, amt)\u001b[39m\n\u001b[32m     16\u001b[39m \u001b[38;5;28;01mdef\u001b[39;00m\u001b[38;5;250m \u001b[39m\u001b[34mdeposit\u001b[39m(\u001b[38;5;28mself\u001b[39m, amt: \u001b[38;5;28mfloat\u001b[39m):\n\u001b[32m     17\u001b[39m     \u001b[38;5;28;01mif\u001b[39;00m amt <= \u001b[32m0\u001b[39m:\n\u001b[32m---> \u001b[39m\u001b[32m18\u001b[39m         \u001b[38;5;28;01mraise\u001b[39;00m \u001b[38;5;167;01mValueError\u001b[39;00m(\u001b[33m\"\u001b[39m\u001b[33mNegative amount cannot be deposited\u001b[39m\u001b[33m\"\u001b[39m)\n\u001b[32m     20\u001b[39m     \u001b[38;5;28mself\u001b[39m.bal = \u001b[38;5;28mself\u001b[39m.bal + amt\n",
      "\u001b[31mValueError\u001b[39m: Negative amount cannot be deposited"
     ]
    }
   ],
   "source": [
    "ac1.deposit(-300)"
   ]
  },
  {
   "cell_type": "code",
   "execution_count": 70,
   "id": "ff78c495",
   "metadata": {},
   "outputs": [],
   "source": [
    "ac1.withdraw(350)"
   ]
  },
  {
   "cell_type": "code",
   "execution_count": 71,
   "id": "301b6bbb",
   "metadata": {},
   "outputs": [
    {
     "name": "stdout",
     "output_type": "stream",
     "text": [
      "Account number : 1234, Name : Naman, Current Balance : 1150.00 INR\n"
     ]
    }
   ],
   "source": [
    "ac1.check_balance()"
   ]
  },
  {
   "cell_type": "code",
   "execution_count": 72,
   "id": "1dd2da4c",
   "metadata": {},
   "outputs": [
    {
     "ename": "ValueError",
     "evalue": "Insufficient Balance",
     "output_type": "error",
     "traceback": [
      "\u001b[31m---------------------------------------------------------------------------\u001b[39m",
      "\u001b[31mValueError\u001b[39m                                Traceback (most recent call last)",
      "\u001b[36mCell\u001b[39m\u001b[36m \u001b[39m\u001b[32mIn[72]\u001b[39m\u001b[32m, line 1\u001b[39m\n\u001b[32m----> \u001b[39m\u001b[32m1\u001b[39m \u001b[43mac1\u001b[49m\u001b[43m.\u001b[49m\u001b[43mwithdraw\u001b[49m\u001b[43m(\u001b[49m\u001b[32;43m2000\u001b[39;49m\u001b[43m)\u001b[49m\n",
      "\u001b[36mCell\u001b[39m\u001b[36m \u001b[39m\u001b[32mIn[58]\u001b[39m\u001b[32m, line 27\u001b[39m, in \u001b[36mAccount.withdraw\u001b[39m\u001b[34m(self, amt)\u001b[39m\n\u001b[32m     24\u001b[39m     \u001b[38;5;28;01mraise\u001b[39;00m \u001b[38;5;167;01mValueError\u001b[39;00m(\u001b[33m\"\u001b[39m\u001b[33mNegative amount cannot be withdrawn\u001b[39m\u001b[33m\"\u001b[39m)\n\u001b[32m     26\u001b[39m \u001b[38;5;28;01mif\u001b[39;00m \u001b[38;5;28mself\u001b[39m.bal < amt:\n\u001b[32m---> \u001b[39m\u001b[32m27\u001b[39m     \u001b[38;5;28;01mraise\u001b[39;00m \u001b[38;5;167;01mValueError\u001b[39;00m(\u001b[33m\"\u001b[39m\u001b[33mInsufficient Balance\u001b[39m\u001b[33m\"\u001b[39m)\n\u001b[32m     29\u001b[39m \u001b[38;5;28mself\u001b[39m.bal = \u001b[38;5;28mself\u001b[39m.bal - amt\n",
      "\u001b[31mValueError\u001b[39m: Insufficient Balance"
     ]
    }
   ],
   "source": [
    "ac1.withdraw(2000)"
   ]
  },
  {
   "cell_type": "code",
   "execution_count": 73,
   "id": "df198a13",
   "metadata": {},
   "outputs": [],
   "source": [
    "ac1.withdraw(200)"
   ]
  },
  {
   "cell_type": "code",
   "execution_count": 74,
   "id": "b0e6877b",
   "metadata": {},
   "outputs": [
    {
     "name": "stdout",
     "output_type": "stream",
     "text": [
      "Account number : 1234, Name : Naman, Current Balance : 950.00 INR\n"
     ]
    }
   ],
   "source": [
    "ac1.check_balance()"
   ]
  },
  {
   "cell_type": "code",
   "execution_count": 76,
   "id": "88ec065e",
   "metadata": {},
   "outputs": [],
   "source": [
    "ac2 = Account(ac_no=6789, name=\"Aditi\", bal=300)"
   ]
  },
  {
   "cell_type": "code",
   "execution_count": 77,
   "id": "de5ae2f3",
   "metadata": {},
   "outputs": [
    {
     "data": {
      "text/plain": [
       "6789"
      ]
     },
     "execution_count": 77,
     "metadata": {},
     "output_type": "execute_result"
    }
   ],
   "source": [
    "ac2.ac_no"
   ]
  },
  {
   "cell_type": "code",
   "execution_count": 78,
   "id": "d4f7dd7f",
   "metadata": {},
   "outputs": [
    {
     "data": {
      "text/plain": [
       "'Aditi'"
      ]
     },
     "execution_count": 78,
     "metadata": {},
     "output_type": "execute_result"
    }
   ],
   "source": [
    "ac2.name"
   ]
  },
  {
   "cell_type": "code",
   "execution_count": 79,
   "id": "368f8994",
   "metadata": {},
   "outputs": [
    {
     "data": {
      "text/plain": [
       "300"
      ]
     },
     "execution_count": 79,
     "metadata": {},
     "output_type": "execute_result"
    }
   ],
   "source": [
    "ac2.bal"
   ]
  },
  {
   "cell_type": "code",
   "execution_count": 80,
   "id": "90fa1e68",
   "metadata": {},
   "outputs": [
    {
     "name": "stdout",
     "output_type": "stream",
     "text": [
      "Account number : 6789, Name : Aditi, Current Balance : 300.00 INR\n"
     ]
    }
   ],
   "source": [
    "ac2.check_balance()"
   ]
  },
  {
   "cell_type": "code",
   "execution_count": 81,
   "id": "225aa09b",
   "metadata": {},
   "outputs": [],
   "source": [
    "ac2.deposit(400)"
   ]
  },
  {
   "cell_type": "code",
   "execution_count": 82,
   "id": "15061805",
   "metadata": {},
   "outputs": [
    {
     "data": {
      "text/plain": [
       "Account(ac_no=6789, name='Aditi', bal=700)"
      ]
     },
     "execution_count": 82,
     "metadata": {},
     "output_type": "execute_result"
    }
   ],
   "source": [
    "ac2"
   ]
  },
  {
   "cell_type": "code",
   "execution_count": 83,
   "id": "dd15156e",
   "metadata": {},
   "outputs": [],
   "source": [
    "ac2.withdraw(200)"
   ]
  },
  {
   "cell_type": "code",
   "execution_count": 84,
   "id": "11c408cd",
   "metadata": {},
   "outputs": [
    {
     "name": "stdout",
     "output_type": "stream",
     "text": [
      "Account number : 6789, Name : Aditi, Current Balance : 500.00 INR\n"
     ]
    }
   ],
   "source": [
    "ac2.check_balance()"
   ]
  },
  {
   "cell_type": "code",
   "execution_count": 85,
   "id": "337fef1b",
   "metadata": {},
   "outputs": [],
   "source": [
    "ac1.transfer(400, ac2)"
   ]
  },
  {
   "cell_type": "code",
   "execution_count": 86,
   "id": "1639f773",
   "metadata": {},
   "outputs": [
    {
     "name": "stdout",
     "output_type": "stream",
     "text": [
      "Account number : 1234, Name : Naman, Current Balance : 550.00 INR\n"
     ]
    }
   ],
   "source": [
    "ac1.check_balance()"
   ]
  },
  {
   "cell_type": "code",
   "execution_count": 87,
   "id": "33feecd0",
   "metadata": {},
   "outputs": [
    {
     "name": "stdout",
     "output_type": "stream",
     "text": [
      "Account number : 6789, Name : Aditi, Current Balance : 900.00 INR\n"
     ]
    }
   ],
   "source": [
    "ac2.check_balance()"
   ]
  },
  {
   "cell_type": "code",
   "execution_count": 88,
   "id": "94abca70",
   "metadata": {},
   "outputs": [],
   "source": [
    "ac2.transfer(150, ac1)"
   ]
  },
  {
   "cell_type": "code",
   "execution_count": 89,
   "id": "7e81ca36",
   "metadata": {},
   "outputs": [
    {
     "name": "stdout",
     "output_type": "stream",
     "text": [
      "Account number : 6789, Name : Aditi, Current Balance : 750.00 INR\n",
      "Account number : 1234, Name : Naman, Current Balance : 700.00 INR\n"
     ]
    }
   ],
   "source": [
    "ac2.check_balance()\n",
    "ac1.check_balance()"
   ]
  },
  {
   "cell_type": "code",
   "execution_count": 90,
   "id": "5c1609c9",
   "metadata": {},
   "outputs": [
    {
     "ename": "ValueError",
     "evalue": "Insufficient Balance",
     "output_type": "error",
     "traceback": [
      "\u001b[31m---------------------------------------------------------------------------\u001b[39m",
      "\u001b[31mValueError\u001b[39m                                Traceback (most recent call last)",
      "\u001b[36mCell\u001b[39m\u001b[36m \u001b[39m\u001b[32mIn[90]\u001b[39m\u001b[32m, line 1\u001b[39m\n\u001b[32m----> \u001b[39m\u001b[32m1\u001b[39m \u001b[43mac2\u001b[49m\u001b[43m.\u001b[49m\u001b[43mtransfer\u001b[49m\u001b[43m(\u001b[49m\u001b[32;43m1000\u001b[39;49m\u001b[43m,\u001b[49m\u001b[43m \u001b[49m\u001b[43mac1\u001b[49m\u001b[43m)\u001b[49m\n",
      "\u001b[36mCell\u001b[39m\u001b[36m \u001b[39m\u001b[32mIn[58]\u001b[39m\u001b[32m, line 32\u001b[39m, in \u001b[36mAccount.transfer\u001b[39m\u001b[34m(self, amt, ac2)\u001b[39m\n\u001b[32m     31\u001b[39m \u001b[38;5;28;01mdef\u001b[39;00m\u001b[38;5;250m \u001b[39m\u001b[34mtransfer\u001b[39m(\u001b[38;5;28mself\u001b[39m, amt: \u001b[38;5;28mfloat\u001b[39m, ac2: \u001b[33m\"\u001b[39m\u001b[33mAccount\u001b[39m\u001b[33m\"\u001b[39m):\n\u001b[32m---> \u001b[39m\u001b[32m32\u001b[39m     \u001b[38;5;28;43mself\u001b[39;49m\u001b[43m.\u001b[49m\u001b[43mwithdraw\u001b[49m\u001b[43m(\u001b[49m\u001b[43mamt\u001b[49m\u001b[43m)\u001b[49m\n\u001b[32m     33\u001b[39m     ac2.deposit(amt)\n",
      "\u001b[36mCell\u001b[39m\u001b[36m \u001b[39m\u001b[32mIn[58]\u001b[39m\u001b[32m, line 27\u001b[39m, in \u001b[36mAccount.withdraw\u001b[39m\u001b[34m(self, amt)\u001b[39m\n\u001b[32m     24\u001b[39m     \u001b[38;5;28;01mraise\u001b[39;00m \u001b[38;5;167;01mValueError\u001b[39;00m(\u001b[33m\"\u001b[39m\u001b[33mNegative amount cannot be withdrawn\u001b[39m\u001b[33m\"\u001b[39m)\n\u001b[32m     26\u001b[39m \u001b[38;5;28;01mif\u001b[39;00m \u001b[38;5;28mself\u001b[39m.bal < amt:\n\u001b[32m---> \u001b[39m\u001b[32m27\u001b[39m     \u001b[38;5;28;01mraise\u001b[39;00m \u001b[38;5;167;01mValueError\u001b[39;00m(\u001b[33m\"\u001b[39m\u001b[33mInsufficient Balance\u001b[39m\u001b[33m\"\u001b[39m)\n\u001b[32m     29\u001b[39m \u001b[38;5;28mself\u001b[39m.bal = \u001b[38;5;28mself\u001b[39m.bal - amt\n",
      "\u001b[31mValueError\u001b[39m: Insufficient Balance"
     ]
    }
   ],
   "source": [
    "ac2.transfer(1000, ac1)"
   ]
  },
  {
   "cell_type": "code",
   "execution_count": null,
   "id": "a1422922",
   "metadata": {},
   "outputs": [],
   "source": []
  }
 ],
 "metadata": {
  "kernelspec": {
   "display_name": "wakad-adv-python-6-8-pm",
   "language": "python",
   "name": "python3"
  },
  "language_info": {
   "codemirror_mode": {
    "name": "ipython",
    "version": 3
   },
   "file_extension": ".py",
   "mimetype": "text/x-python",
   "name": "python",
   "nbconvert_exporter": "python",
   "pygments_lexer": "ipython3",
   "version": "3.13.3"
  }
 },
 "nbformat": 4,
 "nbformat_minor": 5
}
