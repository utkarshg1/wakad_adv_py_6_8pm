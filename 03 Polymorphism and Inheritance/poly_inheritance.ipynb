{
 "cells": [
  {
   "cell_type": "markdown",
   "metadata": {},
   "source": [
    "# Part 1 - Polymorphism"
   ]
  },
  {
   "cell_type": "markdown",
   "metadata": {},
   "source": [
    "In order to convert .py to .ipynb\n",
    "\n",
    "you need to install below\n",
    "\n",
    "\n",
    "\n",
    "```cmd\n",
    "\n",
    "uv add pip notebook\n",
    "\n",
    "```\n",
    "\n",
    "\n",
    "\n",
    "1. Ctrl + Shift + P \n",
    "\n",
    "2. Export as ipynb with output\n",
    "\n",
    "3. Restart VS Code\n",
    "\n"
   ]
  },
  {
   "cell_type": "code",
   "execution_count": 1,
   "metadata": {},
   "outputs": [],
   "source": [
    "# Ignore non harmful warnings\n",
    "from warnings import filterwarnings\n",
    "\n",
    "filterwarnings(\"ignore\")"
   ]
  },
  {
   "cell_type": "markdown",
   "metadata": {},
   "source": [
    "# Polymorphism in function\n",
    "\n",
    "\n",
    "\n",
    "You have multiple datatypes or classes but same\n",
    "\n",
    "function can be applied on them"
   ]
  },
  {
   "cell_type": "code",
   "execution_count": 2,
   "metadata": {},
   "outputs": [
    {
     "name": "stdout",
     "output_type": "stream",
     "text": [
      "ETLHive <class 'str'> 7\n"
     ]
    }
   ],
   "source": [
    "a = \"ETLHive\"\n",
    "print(a, type(a), len(a))"
   ]
  },
  {
   "cell_type": "code",
   "execution_count": 3,
   "metadata": {},
   "outputs": [
    {
     "name": "stdout",
     "output_type": "stream",
     "text": [
      "[11, 12, 13, 14, 15] <class 'list'> 5\n"
     ]
    }
   ],
   "source": [
    "b = [11, 12, 13, 14, 15]\n",
    "print(b, type(b), len(b))"
   ]
  },
  {
   "cell_type": "code",
   "execution_count": 4,
   "metadata": {},
   "outputs": [
    {
     "name": "stdout",
     "output_type": "stream",
     "text": [
      "{'name': 'Abhijeet', 'age': 28, 'marks': 78.5} <class 'dict'> 3\n"
     ]
    }
   ],
   "source": [
    "c = {\"name\": \"Abhijeet\", \"age\": 28, \"marks\": 78.5}\n",
    "print(c, type(c), len(c))"
   ]
  },
  {
   "cell_type": "markdown",
   "metadata": {},
   "source": [
    "# Polymorphism in operators\n",
    "\n",
    "Same operator but multiple datatypes"
   ]
  },
  {
   "cell_type": "code",
   "execution_count": 5,
   "metadata": {},
   "outputs": [
    {
     "name": "stdout",
     "output_type": "stream",
     "text": [
      "57\n"
     ]
    }
   ],
   "source": [
    "a = 23\n",
    "b = 34\n",
    "print(a + b)"
   ]
  },
  {
   "cell_type": "code",
   "execution_count": 6,
   "metadata": {},
   "outputs": [
    {
     "name": "stdout",
     "output_type": "stream",
     "text": [
      "23.8\n"
     ]
    }
   ],
   "source": [
    "a = 11.5\n",
    "b = 12.3\n",
    "print(a + b)"
   ]
  },
  {
   "cell_type": "code",
   "execution_count": 7,
   "metadata": {},
   "outputs": [
    {
     "name": "stdout",
     "output_type": "stream",
     "text": [
      "Rahul More\n"
     ]
    }
   ],
   "source": [
    "a = \"Rahul\"\n",
    "b = \"More\"\n",
    "print(a + \" \" + b)"
   ]
  },
  {
   "cell_type": "code",
   "execution_count": 8,
   "metadata": {},
   "outputs": [
    {
     "name": "stdout",
     "output_type": "stream",
     "text": [
      "[3, 4, 5, 6, 7, 8]\n"
     ]
    }
   ],
   "source": [
    "a = [3, 4, 5]\n",
    "b = [6, 7, 8]\n",
    "print(a + b)"
   ]
  },
  {
   "cell_type": "code",
   "execution_count": 9,
   "metadata": {},
   "outputs": [
    {
     "name": "stdout",
     "output_type": "stream",
     "text": [
      "[1, 2, 4, 5, 6, 7]\n"
     ]
    }
   ],
   "source": [
    "a = [1, 2]\n",
    "b = [4, 5, 6, 7]\n",
    "print(a + b)"
   ]
  },
  {
   "cell_type": "markdown",
   "metadata": {},
   "source": [
    "# Polymorphism in classes"
   ]
  },
  {
   "cell_type": "code",
   "execution_count": 10,
   "metadata": {},
   "outputs": [],
   "source": [
    "class India:\n",
    "\n",
    "    def capital(self):\n",
    "        print(\"New Delhi is captial of India\")\n",
    "\n",
    "    def language(self):\n",
    "        print(\"Hindi is widely spoken in India\")"
   ]
  },
  {
   "cell_type": "code",
   "execution_count": 11,
   "metadata": {},
   "outputs": [],
   "source": [
    "class USA:\n",
    "\n",
    "    def capital(self):\n",
    "        print(\"Washington D.C. is capital of USA\")\n",
    "\n",
    "    def language(self):\n",
    "        print(\"English is widely spoken in USA\")"
   ]
  },
  {
   "cell_type": "code",
   "execution_count": 12,
   "metadata": {},
   "outputs": [],
   "source": [
    "class France:\n",
    "\n",
    "    def capital(self):\n",
    "        print(\"Paris is capital of France\")\n",
    "\n",
    "    def language(self):\n",
    "        print(\"French is Widely spoken in France\")"
   ]
  },
  {
   "cell_type": "code",
   "execution_count": 13,
   "metadata": {},
   "outputs": [
    {
     "name": "stdout",
     "output_type": "stream",
     "text": [
      "<class '__main__.India'>\n",
      "New Delhi is captial of India\n",
      "Hindi is widely spoken in India\n"
     ]
    }
   ],
   "source": [
    "c1 = India()\n",
    "print(type(c1))\n",
    "c1.capital()\n",
    "c1.language()"
   ]
  },
  {
   "cell_type": "code",
   "execution_count": 14,
   "metadata": {},
   "outputs": [
    {
     "name": "stdout",
     "output_type": "stream",
     "text": [
      "<class '__main__.USA'>\n",
      "Washington D.C. is capital of USA\n",
      "English is widely spoken in USA\n"
     ]
    }
   ],
   "source": [
    "c2 = USA()\n",
    "print(type(c2))\n",
    "c2.capital()\n",
    "c2.language()"
   ]
  },
  {
   "cell_type": "code",
   "execution_count": 15,
   "metadata": {},
   "outputs": [
    {
     "name": "stdout",
     "output_type": "stream",
     "text": [
      "<class '__main__.France'>\n",
      "Paris is capital of France\n",
      "French is Widely spoken in France\n"
     ]
    }
   ],
   "source": [
    "c3 = France()\n",
    "print(type(c3))\n",
    "c3.capital()\n",
    "c3.language()"
   ]
  },
  {
   "cell_type": "code",
   "execution_count": 16,
   "metadata": {},
   "outputs": [
    {
     "name": "stdout",
     "output_type": "stream",
     "text": [
      "<class '__main__.India'>\n",
      "New Delhi is captial of India\n",
      "Hindi is widely spoken in India\n",
      "\n",
      "==================================================\n",
      "\n",
      "<class '__main__.USA'>\n",
      "Washington D.C. is capital of USA\n",
      "English is widely spoken in USA\n",
      "\n",
      "==================================================\n",
      "\n",
      "<class '__main__.France'>\n",
      "Paris is capital of France\n",
      "French is Widely spoken in France\n",
      "\n",
      "==================================================\n",
      "\n"
     ]
    }
   ],
   "source": [
    "countries = [c1, c2, c3]\n",
    "\n",
    "for country in countries:\n",
    "    print(type(country))\n",
    "    country.capital()\n",
    "    country.language()\n",
    "    print(\"\\n\" + \"=\" * 50 + \"\\n\")"
   ]
  },
  {
   "cell_type": "markdown",
   "metadata": {},
   "source": [
    "# Three shapes Square, Rectangle and Circle\n",
    "\n",
    "Apply polymorphism to calculate perimeter and area"
   ]
  },
  {
   "cell_type": "code",
   "execution_count": 17,
   "metadata": {},
   "outputs": [],
   "source": [
    "from dataclasses import dataclass"
   ]
  },
  {
   "cell_type": "code",
   "execution_count": 18,
   "metadata": {},
   "outputs": [],
   "source": [
    "@dataclass\n",
    "class Square:\n",
    "\n",
    "    side: int | float\n",
    "\n",
    "    def perimeter(self) -> int | float:\n",
    "        return 4 * self.side\n",
    "\n",
    "    def area(self) -> int | float:\n",
    "        return self.side**2"
   ]
  },
  {
   "cell_type": "code",
   "execution_count": 19,
   "metadata": {},
   "outputs": [],
   "source": [
    "@dataclass\n",
    "class Rectangle:\n",
    "\n",
    "    width: int | float\n",
    "    height: int | float\n",
    "\n",
    "    def perimeter(self):\n",
    "        return 2 * (self.width + self.height)\n",
    "\n",
    "    def area(self):\n",
    "        return self.width * self.height"
   ]
  },
  {
   "cell_type": "code",
   "execution_count": 20,
   "metadata": {},
   "outputs": [
    {
     "name": "stdout",
     "output_type": "stream",
     "text": [
      "3.141592653589793\n"
     ]
    }
   ],
   "source": [
    "import math\n",
    "\n",
    "print(math.pi)"
   ]
  },
  {
   "cell_type": "code",
   "execution_count": 21,
   "metadata": {},
   "outputs": [],
   "source": [
    "@dataclass\n",
    "class Circle:\n",
    "\n",
    "    radius: int | float\n",
    "\n",
    "    def perimeter(self) -> float:\n",
    "        return 2 * math.pi * self.radius\n",
    "\n",
    "    def area(self) -> float:\n",
    "        return math.pi * (self.radius**2)"
   ]
  },
  {
   "cell_type": "code",
   "execution_count": 22,
   "metadata": {},
   "outputs": [],
   "source": [
    "s1 = Circle(radius=7)\n",
    "s2 = Rectangle(width=20, height=10)\n",
    "s3 = Square(side=5)\n",
    "s4 = Rectangle(width=10.5, height=8)\n",
    "s5 = Circle(radius=12)"
   ]
  },
  {
   "cell_type": "code",
   "execution_count": 23,
   "metadata": {},
   "outputs": [
    {
     "name": "stdout",
     "output_type": "stream",
     "text": [
      "<class '__main__.Circle'>\n",
      "Circle(radius=7)\n",
      "Perimeter : 43.98\n",
      "Area : 153.94\n",
      "\n",
      "==================================================\n",
      "\n",
      "<class '__main__.Rectangle'>\n",
      "Rectangle(width=20, height=10)\n",
      "Perimeter : 60.00\n",
      "Area : 200.00\n",
      "\n",
      "==================================================\n",
      "\n",
      "<class '__main__.Square'>\n",
      "Square(side=5)\n",
      "Perimeter : 20.00\n",
      "Area : 25.00\n",
      "\n",
      "==================================================\n",
      "\n",
      "<class '__main__.Rectangle'>\n",
      "Rectangle(width=10.5, height=8)\n",
      "Perimeter : 37.00\n",
      "Area : 84.00\n",
      "\n",
      "==================================================\n",
      "\n",
      "<class '__main__.Circle'>\n",
      "Circle(radius=12)\n",
      "Perimeter : 75.40\n",
      "Area : 452.39\n",
      "\n",
      "==================================================\n",
      "\n"
     ]
    }
   ],
   "source": [
    "shapes = [s1, s2, s3, s4, s5]\n",
    "\n",
    "for shape in shapes:\n",
    "    print(type(shape))\n",
    "    print(shape)\n",
    "    print(f\"Perimeter : {shape.perimeter():.2f}\")\n",
    "    print(f\"Area : {shape.area():.2f}\")\n",
    "    print(\"\\n\" + \"=\" * 50 + \"\\n\")"
   ]
  },
  {
   "cell_type": "markdown",
   "metadata": {},
   "source": [
    "# Inheritance\n",
    "\n",
    "1. Single\n",
    "\n",
    "2. Multilevel\n",
    "\n",
    "3. Hierarchical"
   ]
  },
  {
   "cell_type": "markdown",
   "metadata": {},
   "source": [
    "## Single Inheritance"
   ]
  },
  {
   "cell_type": "code",
   "execution_count": 24,
   "metadata": {},
   "outputs": [],
   "source": [
    "class Person:\n",
    "\n",
    "    def __init__(self, name: str, age: int):\n",
    "        self.name = name\n",
    "        self.age = age\n",
    "\n",
    "    def introduce(self):\n",
    "        print(f\"My name is {self.name}\")\n",
    "        print(f\"I am {self.age} years old\")"
   ]
  },
  {
   "cell_type": "code",
   "execution_count": 25,
   "metadata": {},
   "outputs": [],
   "source": [
    "class Employee(Person):\n",
    "\n",
    "    def __init__(self, name: str, age: int, company: str):\n",
    "        super().__init__(name, age)\n",
    "        self.company = company\n",
    "\n",
    "    def work(self):\n",
    "        print(f\"I work at {self.company}\")"
   ]
  },
  {
   "cell_type": "code",
   "execution_count": 26,
   "metadata": {},
   "outputs": [
    {
     "name": "stdout",
     "output_type": "stream",
     "text": [
      "<class '__main__.Person'>\n"
     ]
    }
   ],
   "source": [
    "p1 = Person(name=\"Raman\", age=28)\n",
    "print(type(p1))"
   ]
  },
  {
   "cell_type": "code",
   "execution_count": 27,
   "metadata": {},
   "outputs": [
    {
     "data": {
      "text/plain": [
       "'Raman'"
      ]
     },
     "execution_count": 27,
     "metadata": {},
     "output_type": "execute_result"
    }
   ],
   "source": [
    "p1.name"
   ]
  },
  {
   "cell_type": "code",
   "execution_count": 28,
   "metadata": {},
   "outputs": [
    {
     "data": {
      "text/plain": [
       "28"
      ]
     },
     "execution_count": 28,
     "metadata": {},
     "output_type": "execute_result"
    }
   ],
   "source": [
    "p1.age"
   ]
  },
  {
   "cell_type": "code",
   "execution_count": 29,
   "metadata": {},
   "outputs": [
    {
     "name": "stdout",
     "output_type": "stream",
     "text": [
      "My name is Raman\n",
      "I am 28 years old\n"
     ]
    }
   ],
   "source": [
    "p1.introduce()"
   ]
  },
  {
   "cell_type": "code",
   "execution_count": 30,
   "metadata": {},
   "outputs": [
    {
     "name": "stdout",
     "output_type": "stream",
     "text": [
      "<class '__main__.Employee'>\n"
     ]
    }
   ],
   "source": [
    "e2 = Employee(name=\"Aditi\", age=32, company=\"Infosys\")\n",
    "print(type(e2))"
   ]
  },
  {
   "cell_type": "code",
   "execution_count": 31,
   "metadata": {},
   "outputs": [
    {
     "data": {
      "text/plain": [
       "'Aditi'"
      ]
     },
     "execution_count": 31,
     "metadata": {},
     "output_type": "execute_result"
    }
   ],
   "source": [
    "e2.name"
   ]
  },
  {
   "cell_type": "code",
   "execution_count": 32,
   "metadata": {},
   "outputs": [
    {
     "data": {
      "text/plain": [
       "32"
      ]
     },
     "execution_count": 32,
     "metadata": {},
     "output_type": "execute_result"
    }
   ],
   "source": [
    "e2.age"
   ]
  },
  {
   "cell_type": "code",
   "execution_count": 33,
   "metadata": {},
   "outputs": [
    {
     "data": {
      "text/plain": [
       "'Infosys'"
      ]
     },
     "execution_count": 33,
     "metadata": {},
     "output_type": "execute_result"
    }
   ],
   "source": [
    "e2.company"
   ]
  },
  {
   "cell_type": "code",
   "execution_count": 34,
   "metadata": {},
   "outputs": [
    {
     "name": "stdout",
     "output_type": "stream",
     "text": [
      "I work at Infosys\n"
     ]
    }
   ],
   "source": [
    "e2.work()"
   ]
  },
  {
   "cell_type": "code",
   "execution_count": 35,
   "metadata": {},
   "outputs": [
    {
     "name": "stdout",
     "output_type": "stream",
     "text": [
      "My name is Aditi\n",
      "I am 32 years old\n"
     ]
    }
   ],
   "source": [
    "e2.introduce()"
   ]
  },
  {
   "cell_type": "code",
   "execution_count": 36,
   "metadata": {},
   "outputs": [
    {
     "name": "stdout",
     "output_type": "stream",
     "text": [
      "My name is Aditi\n",
      "I am 32 years old\n",
      "I work at Infosys\n"
     ]
    }
   ],
   "source": [
    "e2.introduce()\n",
    "e2.work()"
   ]
  },
  {
   "cell_type": "markdown",
   "metadata": {},
   "source": [
    "## 2. Multilevel Inehritance\n",
    "\n",
    "Class A -> Class B -> Class C"
   ]
  },
  {
   "cell_type": "code",
   "execution_count": 37,
   "metadata": {},
   "outputs": [],
   "source": [
    "class Employee2:\n",
    "\n",
    "    def __init__(self, emp_id: int, name: str):\n",
    "        self.emp_id = emp_id\n",
    "        self.name = name\n",
    "\n",
    "    def get_details(self):\n",
    "        print(f\"Employee Id : {self.emp_id}\")\n",
    "        print(f\"Employee name : {self.name}\")"
   ]
  },
  {
   "cell_type": "code",
   "execution_count": 38,
   "metadata": {},
   "outputs": [],
   "source": [
    "class Manager(Employee2):\n",
    "\n",
    "    def __init__(self, emp_id: int, name: str, dept: str):\n",
    "        super().__init__(emp_id, name)\n",
    "        self.dept = dept\n",
    "\n",
    "    def get_department(self):\n",
    "        print(f\"Department : {self.dept}\")"
   ]
  },
  {
   "cell_type": "code",
   "execution_count": 39,
   "metadata": {},
   "outputs": [],
   "source": [
    "class Director(Manager):\n",
    "\n",
    "    def __init__(self, emp_id: int, name: str, dept: str, region: str):\n",
    "        super().__init__(emp_id, name, dept)\n",
    "        self.region = region\n",
    "\n",
    "    def get_all_info(self):\n",
    "        self.get_details()\n",
    "        self.get_department()\n",
    "        print(f\"Region : {self.region}\")"
   ]
  },
  {
   "cell_type": "code",
   "execution_count": 40,
   "metadata": {},
   "outputs": [
    {
     "name": "stdout",
     "output_type": "stream",
     "text": [
      "<class '__main__.Employee2'>\n"
     ]
    }
   ],
   "source": [
    "emp = Employee2(emp_id=105, name=\"Sarthak\")\n",
    "print(type(emp))"
   ]
  },
  {
   "cell_type": "code",
   "execution_count": 41,
   "metadata": {},
   "outputs": [
    {
     "data": {
      "text/plain": [
       "105"
      ]
     },
     "execution_count": 41,
     "metadata": {},
     "output_type": "execute_result"
    }
   ],
   "source": [
    "emp.emp_id"
   ]
  },
  {
   "cell_type": "code",
   "execution_count": 42,
   "metadata": {},
   "outputs": [
    {
     "data": {
      "text/plain": [
       "'Sarthak'"
      ]
     },
     "execution_count": 42,
     "metadata": {},
     "output_type": "execute_result"
    }
   ],
   "source": [
    "emp.name"
   ]
  },
  {
   "cell_type": "code",
   "execution_count": 43,
   "metadata": {},
   "outputs": [
    {
     "name": "stdout",
     "output_type": "stream",
     "text": [
      "Employee Id : 105\n",
      "Employee name : Sarthak\n"
     ]
    }
   ],
   "source": [
    "emp.get_details()"
   ]
  },
  {
   "cell_type": "code",
   "execution_count": 44,
   "metadata": {},
   "outputs": [
    {
     "name": "stdout",
     "output_type": "stream",
     "text": [
      "<class '__main__.Manager'>\n"
     ]
    }
   ],
   "source": [
    "manager = Manager(emp_id=103, name=\"Aditi\", dept=\"Engg.\")\n",
    "print(type(manager))"
   ]
  },
  {
   "cell_type": "code",
   "execution_count": 45,
   "metadata": {},
   "outputs": [
    {
     "data": {
      "text/plain": [
       "103"
      ]
     },
     "execution_count": 45,
     "metadata": {},
     "output_type": "execute_result"
    }
   ],
   "source": [
    "manager.emp_id"
   ]
  },
  {
   "cell_type": "code",
   "execution_count": 46,
   "metadata": {},
   "outputs": [
    {
     "data": {
      "text/plain": [
       "'Aditi'"
      ]
     },
     "execution_count": 46,
     "metadata": {},
     "output_type": "execute_result"
    }
   ],
   "source": [
    "manager.name"
   ]
  },
  {
   "cell_type": "code",
   "execution_count": 47,
   "metadata": {},
   "outputs": [
    {
     "data": {
      "text/plain": [
       "'Engg.'"
      ]
     },
     "execution_count": 47,
     "metadata": {},
     "output_type": "execute_result"
    }
   ],
   "source": [
    "manager.dept"
   ]
  },
  {
   "cell_type": "code",
   "execution_count": 48,
   "metadata": {},
   "outputs": [
    {
     "name": "stdout",
     "output_type": "stream",
     "text": [
      "Department : Engg.\n"
     ]
    }
   ],
   "source": [
    "manager.get_department()"
   ]
  },
  {
   "cell_type": "code",
   "execution_count": 49,
   "metadata": {},
   "outputs": [
    {
     "name": "stdout",
     "output_type": "stream",
     "text": [
      "Employee Id : 103\n",
      "Employee name : Aditi\n"
     ]
    }
   ],
   "source": [
    "manager.get_details()"
   ]
  },
  {
   "cell_type": "code",
   "execution_count": 50,
   "metadata": {},
   "outputs": [
    {
     "name": "stdout",
     "output_type": "stream",
     "text": [
      "Employee Id : 103\n",
      "Employee name : Aditi\n",
      "Department : Engg.\n"
     ]
    }
   ],
   "source": [
    "manager.get_details()\n",
    "manager.get_department()"
   ]
  },
  {
   "cell_type": "code",
   "execution_count": 51,
   "metadata": {},
   "outputs": [
    {
     "name": "stdout",
     "output_type": "stream",
     "text": [
      "<class '__main__.Director'>\n"
     ]
    }
   ],
   "source": [
    "director = Director(emp_id=102, name=\"John\", dept=\"Sales\", region=\"Asia\")\n",
    "print(type(director))"
   ]
  },
  {
   "cell_type": "code",
   "execution_count": 52,
   "metadata": {},
   "outputs": [
    {
     "data": {
      "text/plain": [
       "102"
      ]
     },
     "execution_count": 52,
     "metadata": {},
     "output_type": "execute_result"
    }
   ],
   "source": [
    "director.emp_id"
   ]
  },
  {
   "cell_type": "code",
   "execution_count": 53,
   "metadata": {},
   "outputs": [
    {
     "data": {
      "text/plain": [
       "'John'"
      ]
     },
     "execution_count": 53,
     "metadata": {},
     "output_type": "execute_result"
    }
   ],
   "source": [
    "director.name"
   ]
  },
  {
   "cell_type": "code",
   "execution_count": 54,
   "metadata": {},
   "outputs": [
    {
     "data": {
      "text/plain": [
       "'Sales'"
      ]
     },
     "execution_count": 54,
     "metadata": {},
     "output_type": "execute_result"
    }
   ],
   "source": [
    "director.dept"
   ]
  },
  {
   "cell_type": "code",
   "execution_count": 55,
   "metadata": {},
   "outputs": [
    {
     "data": {
      "text/plain": [
       "'Asia'"
      ]
     },
     "execution_count": 55,
     "metadata": {},
     "output_type": "execute_result"
    }
   ],
   "source": [
    "director.region"
   ]
  },
  {
   "cell_type": "code",
   "execution_count": 56,
   "metadata": {},
   "outputs": [
    {
     "name": "stdout",
     "output_type": "stream",
     "text": [
      "Employee Id : 102\n",
      "Employee name : John\n"
     ]
    }
   ],
   "source": [
    "director.get_details()"
   ]
  },
  {
   "cell_type": "code",
   "execution_count": 57,
   "metadata": {},
   "outputs": [
    {
     "name": "stdout",
     "output_type": "stream",
     "text": [
      "Department : Sales\n"
     ]
    }
   ],
   "source": [
    "director.get_department()"
   ]
  },
  {
   "cell_type": "code",
   "execution_count": 58,
   "metadata": {},
   "outputs": [
    {
     "name": "stdout",
     "output_type": "stream",
     "text": [
      "Employee Id : 102\n",
      "Employee name : John\n",
      "Department : Sales\n",
      "Region : Asia\n"
     ]
    }
   ],
   "source": [
    "director.get_all_info()"
   ]
  },
  {
   "cell_type": "markdown",
   "metadata": {},
   "source": [
    "## 3. Hierarchical Inheritance"
   ]
  },
  {
   "cell_type": "code",
   "execution_count": 59,
   "metadata": {},
   "outputs": [],
   "source": [
    "from abc import ABC, abstractmethod"
   ]
  },
  {
   "cell_type": "code",
   "execution_count": 60,
   "metadata": {},
   "outputs": [],
   "source": [
    "class Shape(ABC):\n",
    "    @abstractmethod\n",
    "    def area(self):\n",
    "        pass\n",
    "\n",
    "    @abstractmethod\n",
    "    def perimeter(self):\n",
    "        pass\n",
    "\n",
    "    def describe(self):\n",
    "        print(f\"Perimeter : {self.perimeter():.2f}\")\n",
    "        print(f\"Area : {self.area():.2f}\")"
   ]
  },
  {
   "cell_type": "code",
   "execution_count": 61,
   "metadata": {},
   "outputs": [],
   "source": [
    "class Rectangle2(Shape):\n",
    "\n",
    "    def __init__(self, width: int | float, height: int | float):\n",
    "        super().__init__()\n",
    "        self.width = width\n",
    "        self.height = height\n",
    "\n",
    "    def perimeter(self):\n",
    "        return 2 * (self.width + self.height)\n",
    "\n",
    "    def area(self):\n",
    "        return self.width * self.height"
   ]
  },
  {
   "cell_type": "code",
   "execution_count": 62,
   "metadata": {},
   "outputs": [],
   "source": [
    "class Circle2(Shape):\n",
    "\n",
    "    def __init__(self, radius: int | float):\n",
    "        super().__init__()\n",
    "        self.radius = radius\n",
    "\n",
    "    def perimeter(self):\n",
    "        return 2 * math.pi * self.radius\n",
    "\n",
    "    def area(self):\n",
    "        return math.pi * (self.radius**2)"
   ]
  },
  {
   "cell_type": "code",
   "execution_count": 63,
   "metadata": {},
   "outputs": [
    {
     "name": "stdout",
     "output_type": "stream",
     "text": [
      "[<__main__.Rectangle2 object at 0x0000015B40A6AA50>, <__main__.Circle2 object at 0x0000015B40A6ABA0>, <__main__.Circle2 object at 0x0000015B4086F890>, <__main__.Rectangle2 object at 0x0000015B4086F9D0>, <__main__.Circle2 object at 0x0000015B4086FD90>]\n"
     ]
    }
   ],
   "source": [
    "shapes2: list[Shape] = [\n",
    "    Rectangle2(width=20, height=15),\n",
    "    Circle2(radius=20),\n",
    "    Circle2(radius=14),\n",
    "    Rectangle2(width=5, height=3),\n",
    "    Circle2(radius=15),\n",
    "]\n",
    "print(shapes2)"
   ]
  },
  {
   "cell_type": "code",
   "execution_count": 64,
   "metadata": {},
   "outputs": [
    {
     "name": "stdout",
     "output_type": "stream",
     "text": [
      "<class '__main__.Rectangle2'>\n",
      "Perimeter : 70.00\n",
      "Area : 300.00\n",
      "<class '__main__.Circle2'>\n",
      "Perimeter : 125.66\n",
      "Area : 1256.64\n",
      "<class '__main__.Circle2'>\n",
      "Perimeter : 87.96\n",
      "Area : 615.75\n",
      "<class '__main__.Rectangle2'>\n",
      "Perimeter : 16.00\n",
      "Area : 15.00\n",
      "<class '__main__.Circle2'>\n",
      "Perimeter : 94.25\n",
      "Area : 706.86\n"
     ]
    }
   ],
   "source": [
    "for shape in shapes2:\n",
    "    print(type(shape))\n",
    "    shape.describe()"
   ]
  },
  {
   "cell_type": "code",
   "execution_count": 65,
   "metadata": {},
   "outputs": [
    {
     "name": "stdout",
     "output_type": "stream",
     "text": [
      "Perimeter : 16.00\n",
      "Area : 15.00\n"
     ]
    }
   ],
   "source": [
    "r1 = Rectangle2(width=5, height=3)\n",
    "r1.describe()"
   ]
  },
  {
   "cell_type": "code",
   "execution_count": 66,
   "metadata": {},
   "outputs": [
    {
     "name": "stdout",
     "output_type": "stream",
     "text": [
      "Perimeter : 72.26\n",
      "Area : 415.48\n"
     ]
    }
   ],
   "source": [
    "c1 = Circle2(radius=11.5)\n",
    "c1.describe()"
   ]
  },
  {
   "cell_type": "code",
   "execution_count": null,
   "metadata": {},
   "outputs": [],
   "source": []
  }
 ],
 "metadata": {
  "kernelspec": {
   "display_name": "Wakad Adv Python 6-8 pm",
   "language": "python",
   "name": "python3"
  },
  "language_info": {
   "codemirror_mode": {
    "name": "ipython",
    "version": 3
   },
   "file_extension": ".py",
   "mimetype": "text/x-python",
   "name": "python",
   "nbconvert_exporter": "python",
   "pygments_lexer": "ipython3",
   "version": "3.13.5"
  }
 },
 "nbformat": 4,
 "nbformat_minor": 2
}
